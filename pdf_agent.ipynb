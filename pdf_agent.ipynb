{
 "cells": [
  {
   "cell_type": "code",
   "execution_count": 1,
   "id": "a2051119",
   "metadata": {},
   "outputs": [
    {
     "data": {
      "text/plain": [
       "True"
      ]
     },
     "execution_count": 1,
     "metadata": {},
     "output_type": "execute_result"
    }
   ],
   "source": [
    "import os\n",
    "from dotenv import load_dotenv\n",
    "\n",
    "load_dotenv()  # .env 파일에서 환경변수 로드"
   ]
  },
  {
   "cell_type": "code",
   "execution_count": 32,
   "id": "24e6e4bf",
   "metadata": {},
   "outputs": [],
   "source": [
    "from typing import List, Optional\n",
    "from pydantic import BaseModel\n",
    "\n",
    "# 👇 아래는 GraphState를 구성하는 모든 서브 모델들입니다.\n",
    "class CandidateDocument(BaseModel):\n",
    "    name: str\n",
    "    summary: str\n",
    "    domain: str\n",
    "\n",
    "class EvaluationScores(BaseModel):\n",
    "    team_trustworthiness: int\n",
    "    customer_feedback: int\n",
    "    risk_analysis: int\n",
    "    founder_commitment: int\n",
    "\n",
    "class MarketScores(BaseModel):\n",
    "    market_size: int\n",
    "    problem_fit: int\n",
    "    willingness_to_pay: int\n",
    "    revenue_model_clarity: int\n",
    "    upside_potential: int\n",
    "\n",
    "class MarketAnalysis(BaseModel):\n",
    "    competitor_documents: Optional[List[\"CompetitorDocument\"]] = []\n",
    "    competitive_score: Optional[float] = None\n",
    "    competitive_reasoning: Optional[str] = None\n",
    "\n",
    "class CompetitorDocument(BaseModel):\n",
    "    title: str\n",
    "    url: str\n",
    "    content: str\n",
    "\n",
    "class InvestmentDecision(BaseModel):\n",
    "    judgement: Optional[str] = None\n",
    "    reasoning: Optional[str] = None\n",
    "\n",
    "class GraphState(BaseModel):\n",
    "    user_query: str\n",
    "    domain: Optional[str] = None\n",
    "    candidates_documents: Optional[List[CandidateDocument]] = []\n",
    "    evaluation_scores: Optional[EvaluationScores] = None\n",
    "    market_scores: Optional[MarketScores] = None  # ✅ 이 줄이 반드시 있어야 합니다\n",
    "    evaluation_summary: Optional[str] = None\n",
    "    market_analysis: Optional[MarketAnalysis] = None\n",
    "    investment_decision: Optional[InvestmentDecision] = None\n",
    "    final_report: Optional[str] = None"
   ]
  },
  {
   "cell_type": "code",
   "execution_count": 33,
   "id": "dea0653f",
   "metadata": {},
   "outputs": [],
   "source": [
    "from langchain_core.prompts import PromptTemplate\n",
    "from langchain_openai import ChatOpenAI\n",
    "\n",
    "llm = ChatOpenAI(model=\"gpt-3.5-turbo\", temperature=0.3)\n",
    "\n"
   ]
  },
  {
   "cell_type": "code",
   "execution_count": 34,
   "id": "b6ae7ff2",
   "metadata": {},
   "outputs": [],
   "source": [
    "def generate_final_report_markdown(state: GraphState) -> str:\n",
    "    candidate = state.candidates_documents[0]\n",
    "    scores = state.market_scores or MarketScores(\n",
    "        market_size=0,\n",
    "        problem_fit=0,\n",
    "        willingness_to_pay=0,\n",
    "        revenue_model_clarity=0,\n",
    "        upside_potential=0\n",
    "    )\n",
    "\n",
    "    competitor_doc = (\n",
    "        state.market_analysis.competitor_documents[0]\n",
    "        if state.market_analysis and state.market_analysis.competitor_documents\n",
    "        else None\n",
    "    )\n",
    "\n",
    "    prompt = f\"\"\"\n",
    "당신은 투자 분석 전문가입니다.\n",
    "\n",
    "다음은 하나의 AI 스타트업에 대해 수집된 정보입니다. 아래 내용을 종합하여 전문가 수준의 **Markdown 보고서**를 작성해 주세요.\n",
    "\n",
    "---\n",
    "\n",
    "## 📌 스타트업 개요\n",
    "- 이름: {candidate.name}\n",
    "- 분야: {candidate.domain}\n",
    "- 요약: {candidate.summary}\n",
    "\n",
    "## 🧠 팀 기반 평가 점수 (0~10점)\n",
    "- 창업자 및 팀 신뢰도: {state.evaluation_scores.team_trustworthiness}\n",
    "- 고객 피드백: {state.evaluation_scores.customer_feedback}\n",
    "- 기술/운영/법률 리스크: {state.evaluation_scores.risk_analysis}\n",
    "- 창업자의 헌신도: {state.evaluation_scores.founder_commitment}\n",
    "\n",
    "## 📊 시장성 평가 점수 (0~10점)\n",
    "- 시장 크기: {scores.market_size}\n",
    "- 문제 적합성: {scores.problem_fit}\n",
    "- 지불 의사: {scores.willingness_to_pay}\n",
    "- 수익 모델 명확성: {scores.revenue_model_clarity}\n",
    "- 성공 시 기회 크기: {scores.upside_potential}\n",
    "\n",
    "## 🥊 경쟁사 분석\n",
    "- 경쟁력 점수: {state.market_analysis.competitive_score if state.market_analysis else \"정보 없음\"}\n",
    "- 경쟁력 요약: {state.market_analysis.competitive_reasoning if state.market_analysis else \"정보 없음\"}\n",
    "- 참고 문서: {competitor_doc.title if competitor_doc else \"없음\"}  \n",
    "  ({competitor_doc.url if competitor_doc else \"링크 없음\"})\n",
    "\n",
    "## 📝 요약 평가\n",
    "{state.evaluation_summary}\n",
    "\n",
    "## ✅ 최종 투자 판단\n",
    "- 판단 결과: {state.investment_decision.judgement}\n",
    "- 판단 근거: {state.investment_decision.reasoning}\n",
    "\n",
    "---\n",
    "\n",
    "✍️ 보고서는 전문가 문서처럼 단정하고 정보 중심으로 정리해 주세요.  \n",
    "제목은 **AI 스타트업 투자 평가 보고서**로 해 주세요.  \n",
    "출력은 반드시 **Markdown** 형식만 사용해 주세요.\n",
    "\"\"\"\n",
    "\n",
    "    return llm.invoke(prompt).content"
   ]
  },
  {
   "cell_type": "code",
   "execution_count": 35,
   "id": "a357497a",
   "metadata": {},
   "outputs": [],
   "source": [
    "mock_graph_state = GraphState(\n",
    "    user_query=\"AI 헬스케어 스타트업 알려줘\",\n",
    "    domain=\"헬스케어\",\n",
    "    candidates_documents=[\n",
    "        CandidateDocument(\n",
    "            name=\"Medibot\",\n",
    "            summary=\"Medibot은 AI 기반 진단 시스템으로 빠르고 정확한 진료 보조를 제공. AI 알고리즘을 통해 의료 데이터 분석을 지원.\",\n",
    "            domain=\"헬스케어\"\n",
    "        )\n",
    "    ],\n",
    "    evaluation_scores=EvaluationScores(\n",
    "        team_trustworthiness=8,\n",
    "        customer_feedback=7,\n",
    "        risk_analysis=6,\n",
    "        founder_commitment=9\n",
    "    ),\n",
    "    evaluation_summary=(\n",
    "        \"Medibot은 헬스케어 분야에 특화된 AI 기술 기반의 스타트업으로, 창업팀은 해당 산업에 대한 높은 전문성과 신뢰를 갖추고 있으며 (8점), \"\n",
    "        \"초기 고객 피드백도 긍정적인 편입니다 (7점). 다만 기술 및 법률적 리스크에서 다소 우려되는 부분이 존재하며 (6점), \"\n",
    "        \"창업자의 장기적인 헌신 의지는 높게 평가됩니다 (9점). \"\n",
    "        \"종합적으로 Medibot은 유망한 AI 헬스케어 스타트업이며, 중장기적으로 투자 매력이 있는 기업으로 판단됩니다.\"\n",
    "    ),\n",
    "    market_analysis=MarketAnalysis(\n",
    "        competitor_documents=[\n",
    "            {\n",
    "                \"title\": \"헬스테크\",\n",
    "                \"url\": \"https://fastercapital.com/ko/content/헬스테크-스타트업-전략.html\",\n",
    "                \"content\": \"경쟁 및 차별화: 의료 기술 스타트업은 유사하거나 대안적인 제품 및 서비스를 제공하는 기존 기업, 동료 기업, 신규 기업 등 시장의 다른 플레이어와 경쟁하고 있습니다.\"\n",
    "            },\n",
    "            {\n",
    "                \"title\": \"[PDF]\",\n",
    "                \"url\": \"https://www.techinvest.kr/board/bbs/download.php?bo_table=board2&wr_id=135&no=0\",\n",
    "                \"content\": \"개발 및 생산비용이 스타트업 기업에게는 진입장벽으로 작용함.\"\n",
    "            }\n",
    "        ],\n",
    "        competitive_score=3.5,\n",
    "        competitive_reasoning=(\n",
    "            \"경쟁사와의 차별성이 뚜렷하지 않은 것으로 보입니다. 경쟁사들도 유사한 제품과 서비스를 제공하고 있으며, \"\n",
    "            \"시장에 다른 플레이어들이 많이 존재합니다. 따라서 해당 스타트업의 차별성은 낮다고 평가됩니다.\"\n",
    "        )\n",
    "    ),\n",
    "    investment_decision=InvestmentDecision(\n",
    "        judgement=\"통과\",\n",
    "        reasoning=(\n",
    "            \"시장성과 기술력은 뛰어나지만, 경쟁사 대비 명확한 차별성은 부족합니다. \"\n",
    "            \"다만 창업자의 헌신도와 고객 수요가 높고, 시장 규모가 크므로 중장기적 성장 가능성이 높아 투자 추천이 가능합니다.\"\n",
    "        )\n",
    "    ),\n",
    "    final_report=None  # 나중에 Markdown 생성 함수로 채움\n",
    ")"
   ]
  },
  {
   "cell_type": "code",
   "execution_count": 36,
   "id": "8fcdcd1e",
   "metadata": {},
   "outputs": [
    {
     "name": "stdout",
     "output_type": "stream",
     "text": [
      "Requirement already satisfied: pdfkit in /opt/anaconda3/lib/python3.12/site-packages (1.0.0)\n",
      "Requirement already satisfied: markdown2 in /opt/anaconda3/lib/python3.12/site-packages (2.5.3)\n",
      "Note: you may need to restart the kernel to use updated packages.\n"
     ]
    }
   ],
   "source": [
    "pip install pdfkit markdown2"
   ]
  },
  {
   "cell_type": "markdown",
   "id": "50314a0c",
   "metadata": {},
   "source": [
    "#### Markdown to PDF"
   ]
  },
  {
   "cell_type": "code",
   "execution_count": 37,
   "id": "b8d5f642",
   "metadata": {},
   "outputs": [],
   "source": [
    "import markdown2\n",
    "import pdfkit\n",
    "\n",
    "def export_pdf_from_graph_state(state: GraphState, output_path: str = \"investment_report.pdf\"):\n",
    "    # 1. Markdown 생성\n",
    "    markdown_text = generate_final_report_markdown(state)\n",
    "\n",
    "    # 2. Markdown → HTML\n",
    "    html_text = markdown2.markdown(markdown_text)\n",
    "\n",
    "    # 3. HTML → PDF 저장\n",
    "    try:\n",
    "        pdfkit.from_string(html_text, output_path)\n",
    "        print(f\"✅ PDF 생성 완료: {output_path}\")\n",
    "    except OSError as e:\n",
    "        print(\"❌ wkhtmltopdf가 제대로 설치되었는지 확인해주세요.\")\n",
    "        print(str(e))"
   ]
  },
  {
   "cell_type": "code",
   "execution_count": 38,
   "id": "9dd969db",
   "metadata": {},
   "outputs": [
    {
     "name": "stdout",
     "output_type": "stream",
     "text": [
      "❌ wkhtmltopdf가 제대로 설치되었는지 확인해주세요.\n",
      "No wkhtmltopdf executable found: \"b''\"\n",
      "If this file exists please check that this process can read it or you can pass path to it manually in method call, check README. Otherwise please install wkhtmltopdf - https://github.com/JazzCore/python-pdfkit/wiki/Installing-wkhtmltopdf\n"
     ]
    }
   ],
   "source": [
    "export_pdf_from_graph_state(mock_graph_state, \"medibot_investment_report.pdf\")"
   ]
  },
  {
   "cell_type": "code",
   "execution_count": null,
   "id": "cf2e202e",
   "metadata": {},
   "outputs": [],
   "source": []
  }
 ],
 "metadata": {
  "kernelspec": {
   "display_name": "Python 3",
   "language": "python",
   "name": "python3"
  },
  "language_info": {
   "codemirror_mode": {
    "name": "ipython",
    "version": 3
   },
   "file_extension": ".py",
   "mimetype": "text/x-python",
   "name": "python",
   "nbconvert_exporter": "python",
   "pygments_lexer": "ipython3",
   "version": "3.12.7"
  }
 },
 "nbformat": 4,
 "nbformat_minor": 5
}
